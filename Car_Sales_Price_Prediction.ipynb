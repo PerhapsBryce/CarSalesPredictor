{
  "nbformat": 4,
  "nbformat_minor": 0,
  "metadata": {
    "colab": {
      "provenance": [],
      "authorship_tag": "ABX9TyO+r3EX9JD1tGqMKkf2/KY2",
      "include_colab_link": true
    },
    "kernelspec": {
      "name": "python3",
      "display_name": "Python 3"
    },
    "language_info": {
      "name": "python"
    }
  },
  "cells": [
    {
      "cell_type": "markdown",
      "metadata": {
        "id": "view-in-github",
        "colab_type": "text"
      },
      "source": [
        "<a href=\"https://colab.research.google.com/github/PerhapsBryce/CarSalesPredictor/blob/main/Car_Sales_Price_Prediction.ipynb\" target=\"_parent\"><img src=\"https://colab.research.google.com/assets/colab-badge.svg\" alt=\"Open In Colab\"/></a>"
      ]
    },
    {
      "cell_type": "markdown",
      "source": [
        "<h1>Import Libraries"
      ],
      "metadata": {
        "id": "HXqOjCap5oGY"
      }
    },
    {
      "cell_type": "code",
      "execution_count": null,
      "metadata": {
        "id": "MPnjf19D5alp"
      },
      "outputs": [],
      "source": [
        "from sklearn import datasets\n",
        "from sklearn import linear_model\n",
        "from sklearn.model_selection import train_test_split\n",
        "from matplotlib import pyplot as plt\n",
        "import pandas as pd\n",
        "import numpy as np\n",
        "from sklearn.preprocessing import LabelEncoder"
      ]
    },
    {
      "cell_type": "markdown",
      "source": [
        "<h1>Loading the data"
      ],
      "metadata": {
        "id": "co4n1DpW942y"
      }
    },
    {
      "cell_type": "code",
      "source": [
        "data = pd.read_csv('cars.csv', encoding='latin-1')\n",
        "print(data.head())\n",
        "X = data[[\"country\",\n",
        "          \"gender\",\n",
        "          \"age\",\n",
        "          \"annual Salary\",\n",
        "          \"credit card debt\",\n",
        "          \"net worth\",\n",
        "]].values\n",
        "\n",
        "y = data[[\"car purchase amount\"]]\n",
        "y = np.array(y)"
      ],
      "metadata": {
        "colab": {
          "base_uri": "https://localhost:8080/"
        },
        "id": "qBqjH4pY5sIP",
        "outputId": "29822bee-2c60-45ed-a330-8c8e060c1570"
      },
      "execution_count": null,
      "outputs": [
        {
          "output_type": "stream",
          "name": "stdout",
          "text": [
            "     customer name                                    customer e-mail  \\\n",
            "0    Martina Avila  cubilia.Curae.Phasellus@quisaccumsanconvallis.edu   \n",
            "1    Harlan Barnes                                eu.dolor@diam.co.uk   \n",
            "2  Naomi Rodriquez  vulputate.mauris.sagittis@ametconsectetueradip...   \n",
            "3  Jade Cunningham                            malesuada@dignissim.com   \n",
            "4     Cedric Leach     felis.ullamcorper.viverra@egetmollislectus.net   \n",
            "\n",
            "        country  gender        age  annual Salary  credit card debt  \\\n",
            "0      Bulgaria       0  41.851720    62812.09301      11609.380910   \n",
            "1        Belize       0  40.870623    66646.89292       9572.957136   \n",
            "2       Algeria       1  43.152897    53798.55112      11160.355060   \n",
            "3  Cook Islands       1  58.271369    79370.03798      14426.164850   \n",
            "4        Brazil       1  57.313749    59729.15130       5358.712177   \n",
            "\n",
            "     net worth  car purchase amount  \n",
            "0  238961.2505          35321.45877  \n",
            "1  530973.9078          45115.52566  \n",
            "2  638467.1773          42925.70921  \n",
            "3  548599.0524          67422.36313  \n",
            "4  560304.0671          55915.46248  \n"
          ]
        }
      ]
    },
    {
      "cell_type": "markdown",
      "source": [
        "<h1>Preprocessing"
      ],
      "metadata": {
        "id": "9QMiWwao7iwf"
      }
    },
    {
      "cell_type": "code",
      "source": [
        "le = LabelEncoder()\n",
        "\n",
        "countries = []\n",
        "for i in X[:,0]:\n",
        "  if not i in countries:\n",
        "    countries.append(i)\n",
        "\n",
        "le.fit(countries)\n",
        "X[:,0] = le.transform(X[:,0])\n",
        "\n",
        "X_train, X_test, y_train, y_test = train_test_split(X,y, test_size=0.2)"
      ],
      "metadata": {
        "id": "WHndvZcs7mvX"
      },
      "execution_count": null,
      "outputs": []
    },
    {
      "cell_type": "markdown",
      "source": [
        "<h1>Training and testing"
      ],
      "metadata": {
        "id": "DhWq1Qey8mRD"
      }
    },
    {
      "cell_type": "code",
      "source": [
        "l_reg = linear_model.LinearRegression()\n",
        "\n",
        "model = l_reg.fit(X_train, y_train)\n",
        "predictions = model.predict(X_test)"
      ],
      "metadata": {
        "id": "PJtohqEt86sp"
      },
      "execution_count": null,
      "outputs": []
    },
    {
      "cell_type": "markdown",
      "source": [
        "<h1>Metrics"
      ],
      "metadata": {
        "id": "kAA711ia9KZX"
      }
    },
    {
      "cell_type": "code",
      "source": [
        "print('R^2: ', l_reg.score(X,y))"
      ],
      "metadata": {
        "colab": {
          "base_uri": "https://localhost:8080/"
        },
        "id": "1s9cxLhw9MlF",
        "outputId": "de8c00e5-84de-4a2b-a316-d9559ba4f7e2"
      },
      "execution_count": null,
      "outputs": [
        {
          "output_type": "stream",
          "name": "stdout",
          "text": [
            "R^2:  0.999999981146505\n"
          ]
        }
      ]
    },
    {
      "cell_type": "markdown",
      "source": [
        "<h1>Conclusions"
      ],
      "metadata": {
        "id": "eCsRXCM19h5u"
      }
    },
    {
      "cell_type": "markdown",
      "source": [
        "There is a strong, linear, positive relationship between the the inputs and car purchase amount"
      ],
      "metadata": {
        "id": "sj1AdUXr9lDH"
      }
    }
  ]
}